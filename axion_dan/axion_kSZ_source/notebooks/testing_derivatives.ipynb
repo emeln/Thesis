{
 "cells": [
  {
   "cell_type": "code",
   "execution_count": 1,
   "metadata": {},
   "outputs": [],
   "source": [
    "import numpy as np\n",
    "import matplotlib as mpl\n",
    "import matplotlib.pyplot as plt\n",
    "import matplotlib.gridspec as gridspec\n",
    "from copy import copy"
   ]
  },
  {
   "cell_type": "code",
   "execution_count": 17,
   "metadata": {},
   "outputs": [],
   "source": [
    "mpl.rcParams[\"font.family\"] = \"serif\"\n",
    "mpl.rcParams[\"font.serif\"] = \"STIXGeneral\"\n",
    "mpl.rcParams[\"font.size\"] = \"10\"\n",
    "mpl.rcParams[\"mathtext.fontset\"] = \"stix\"\n",
    "mpl.rc('lines', lw=2.0)\n",
    "mpl.rc('axes', lw=1.0)\n",
    "mpl.rc('xtick.major', size=4, width=1.0)\n",
    "mpl.rc('ytick.major', size=4, width=1.0)\n",
    "mpl.rc('xtick.minor', size=2, width=0.8)\n",
    "mpl.rc('ytick.minor', size=2, width=0.8)\n",
    "mpl.rcParams['axes.labelsize'] = 12\n",
    "mpl.rcParams['xtick.labelsize'] = 10 \n",
    "mpl.rcParams['ytick.labelsize'] = 10\n",
    "mpl.rcParams['legend.fontsize'] = 10"
   ]
  },
  {
   "cell_type": "code",
   "execution_count": 18,
   "metadata": {},
   "outputs": [],
   "source": [
    "import sys\n",
    "import os\n",
    "sys.path.append(\"../../\")"
   ]
  },
  {
   "cell_type": "code",
   "execution_count": 19,
   "metadata": {},
   "outputs": [],
   "source": [
    "from axion_kSZ_source.auxiliary.helper_functions import is_array\n",
    "from axion_kSZ_source.theory.cosmology import Cosmology, CosmologyCustomH\n",
    "from axion_kSZ_source.auxiliary.cosmo_db import CosmoDB\n",
    "from axion_kSZ_source.auxiliary.integration_helper import IntegrationHelper\n",
    "from axion_kSZ_source.axion_camb_wrappers.run_axion_camb import AxionCAMBWrapper\n",
    "from axion_kSZ_source.auxiliary.survey_helper import StageII,StageIII,StageIV,SurveyType\n",
    "from axion_kSZ_source.fisher_analysis.compute_mpv import compute_mean_pairwise_velocity"
   ]
  },
  {
   "cell_type": "code",
   "execution_count": 20,
   "metadata": {},
   "outputs": [],
   "source": [
    "r_vals = np.arange(20.0, 180.0, 2.0)\n",
    "out_folder = \"./fisher_outputs/sharpK_final_StageIV/\"\n",
    "prefix_derivs = \"sharpK_5point_FFTLog_approx_test_derivs\"\n",
    "prefix_fisher = \"sharpK_5point_FFTLog_approx_test_fisher_matrices\"\n",
    "axion_abundances = np.array([1.0e-04, 1.6e-04, 2.5e-04, 4.0e-04, 6.3e-04, 1.0e-03, 1.6e-03, 2.5e-03, 4.0e-03, 6.3e-03, 1.0e-02, 1.6e-02, 2.5e-02, 4.0e-02, 5.3e-02, 6.3e-02, 1.0e-01, 1.1e-01, 1.6e-01, 2.1e-01, 2.5e-01, 2.6e-01, 3.2e-01, 3.7e-01, 4.0e-01, 4.2e-01, 4.7e-01, 5.3e-01, 5.8e-01, 6.3e-01, 6.8e-01, 7.4e-01, 7.9e-01, 8.4e-01, 8.9e-01, 9.5e-01])\n",
    "fractional_step_sizes = np.array([0.05, 0.1, 0.2, 0.4])\n",
    "axion_masses=[1e-27, 1e-26, 1e-25]\n",
    "deriv_labels = [r\"$h$\", r\"$\\omega_{\\rm{DM}}$\", r\"$\\omega_b$\", r\"$n_s$\", \"$A_s$\", r\"$\\eta_{\\rm{axion}}$\"]\n",
    "axion_plot_abundances=[1e-4, 0.01, 0.1, 0.68, 0.95]"
   ]
  },
  {
   "cell_type": "code",
   "execution_count": 21,
   "metadata": {},
   "outputs": [],
   "source": [
    "cosmo_database=\"./CAMB_outputs/cosmo_db_final.dat\"\n",
    "cosmoDB = CosmoDB(cosmo_database)\n",
    "intHelper = IntegrationHelper(1024)\n"
   ]
  },
  {
   "cell_type": "code",
   "execution_count": 23,
   "metadata": {},
   "outputs": [],
   "source": [
    "derivs = []\n",
    "cosmos = []\n",
    "camb_wrappers = []\n",
    "for i, ma in enumerate(axion_masses):\n",
    "    cosmo = CosmologyCustomH.generate(axion_frac=0.4, m_axion=ma)\n",
    "    exist,ID, ran_TF, successful_TF, out_path, log_path = cosmoDB.add(cosmo)\n",
    "    file_root = os.path.basename(out_path)\n",
    "    root_path = out_path[:-len(file_root)]\n",
    "    wrapper = AxionCAMBWrapper(root_path, file_root, log_path)\n",
    "    wrapper(cosmo)\n",
    "    cosmo.set_H_interpolation(wrapper.get_hubble)\n",
    "    cosmos.append(cosmo)\n",
    "    camb_wrappers.append(wrapper)\n",
    "    \n",
    "#     derivs.append(np.load(out_folder+prefix_derivs+f\"_ma={ma:.3E}.npy\"))\n",
    "# fid_values = [cosmos[0].h, cosmos[0].omegaDM, cosmos[0].omegaB, cosmos[0].n_s, cosmos[0].A_s, 0.4]"
   ]
  },
  {
   "cell_type": "code",
   "execution_count": null,
   "metadata": {},
   "outputs": [],
   "source": [
    "print(cosmoDB)"
   ]
  },
  {
   "cell_type": "code",
   "execution_count": 24,
   "metadata": {},
   "outputs": [
    {
     "name": "stderr",
     "output_type": "stream",
     "text": [
      "/Users/dgrin/opt/miniconda3/lib/python3.8/site-packages/mcfit/mcfit.py:126: UserWarning: The default value of lowring has been changed to False, set it to True if you cannot reproduce previous results\n",
      "  warnings.warn(\"The default value of lowring has been changed to False, \"\n",
      "../../axion_kSZ_source/theory/halo_bias_base.py:31: RuntimeWarning: The given value of k_max=1.00E+02 is not feasible because you chose a sharp-k filter and a maximum mass of m_min=4.04E+13. k_max has instead be set to 5.02E-01\n",
      "  warnings.warn(f\"The given value of k_max={kMax:.2E} is not feasible because you chose a sharp-k filter and a maximum mass of m_min={mMin:.2E}. k_max has instead be set to {1 / self.radius_of_mass(mMin):.2E}\", RuntimeWarning)\n",
      "/Users/dgrin/opt/miniconda3/lib/python3.8/site-packages/mcfit/mcfit.py:217: UserWarning: The default value of extrap has been changed to False, set it to True if you cannot reproduce previous results\n",
      "  warnings.warn(\"The default value of extrap has been changed to False, \"\n"
     ]
    }
   ],
   "source": [
    "velocities = []\n",
    "delta_r = 2.0\n",
    "rMin=1.0e-2\n",
    "r_vals = np.arange(20.0, 180.0, delta_r)\n",
    "survey = StageIV(Cosmology())\n",
    "window=\"sharp_k\"\n",
    "kMin,kMax=1.0e-4,1.0e2\n",
    "for i, ma in enumerate(axion_masses):\n",
    "    velocities.append(compute_mean_pairwise_velocity(r_vals, rMin, cosmos[i], camb_wrappers[i], survey, window=window, old_bias=False, jenkins_mass=False, integrationHelper=intHelper, kMin=kMin, kMax=kMax, do_unbiased=True, get_correlation_functions=False, use_approximations=True, use_FFTLog=True))"
   ]
  },
  {
   "cell_type": "code",
   "execution_count": 25,
   "metadata": {},
   "outputs": [
    {
     "ename": "IndexError",
     "evalue": "list index out of range",
     "output_type": "error",
     "traceback": [
      "\u001b[0;31m---------------------------------------------------------------------------\u001b[0m",
      "\u001b[0;31mIndexError\u001b[0m                                Traceback (most recent call last)",
      "\u001b[0;32m<ipython-input-25-3ea67d381eea>\u001b[0m in \u001b[0;36m<module>\u001b[0;34m\u001b[0m\n\u001b[1;32m     13\u001b[0m     \u001b[0maxs\u001b[0m\u001b[0;34m[\u001b[0m\u001b[0mi_d\u001b[0m\u001b[0;34m]\u001b[0m\u001b[0;34m.\u001b[0m\u001b[0mset_title\u001b[0m\u001b[0;34m(\u001b[0m\u001b[0mderiv_labels\u001b[0m\u001b[0;34m[\u001b[0m\u001b[0mi_d\u001b[0m\u001b[0;34m]\u001b[0m\u001b[0;34m)\u001b[0m\u001b[0;34m\u001b[0m\u001b[0;34m\u001b[0m\u001b[0m\n\u001b[1;32m     14\u001b[0m     \u001b[0;32mfor\u001b[0m \u001b[0mi_m\u001b[0m\u001b[0;34m,\u001b[0m \u001b[0mma\u001b[0m \u001b[0;32min\u001b[0m \u001b[0menumerate\u001b[0m\u001b[0;34m(\u001b[0m\u001b[0maxion_masses\u001b[0m\u001b[0;34m)\u001b[0m\u001b[0;34m:\u001b[0m\u001b[0;34m\u001b[0m\u001b[0;34m\u001b[0m\u001b[0m\n\u001b[0;32m---> 15\u001b[0;31m         \u001b[0mp\u001b[0m\u001b[0;34m=\u001b[0m\u001b[0maxs\u001b[0m\u001b[0;34m[\u001b[0m\u001b[0mi_d\u001b[0m\u001b[0;34m]\u001b[0m\u001b[0;34m.\u001b[0m\u001b[0mplot\u001b[0m\u001b[0;34m(\u001b[0m\u001b[0mr_vals\u001b[0m\u001b[0;34m,\u001b[0m \u001b[0mderivs\u001b[0m\u001b[0;34m[\u001b[0m\u001b[0mi_m\u001b[0m\u001b[0;34m]\u001b[0m\u001b[0;34m[\u001b[0m\u001b[0;36m0\u001b[0m\u001b[0;34m,\u001b[0m\u001b[0mi_d\u001b[0m\u001b[0;34m,\u001b[0m\u001b[0;36m0\u001b[0m\u001b[0;34m,\u001b[0m\u001b[0;34m:\u001b[0m\u001b[0;34m]\u001b[0m\u001b[0;34m*\u001b[0m\u001b[0mfid_values\u001b[0m\u001b[0;34m[\u001b[0m\u001b[0mi_d\u001b[0m\u001b[0;34m]\u001b[0m\u001b[0;34m/\u001b[0m\u001b[0mvelocities\u001b[0m\u001b[0;34m[\u001b[0m\u001b[0mi_m\u001b[0m\u001b[0;34m]\u001b[0m\u001b[0;34m[\u001b[0m\u001b[0;36m0\u001b[0m\u001b[0;34m]\u001b[0m\u001b[0;34m[\u001b[0m\u001b[0;36m0\u001b[0m\u001b[0;34m]\u001b[0m\u001b[0;34m)\u001b[0m\u001b[0;34m\u001b[0m\u001b[0;34m\u001b[0m\u001b[0m\n\u001b[0m\u001b[1;32m     16\u001b[0m         \u001b[0;31m#axs[i_d].plot(r_vals, derivs[i_m][0,i_d,3,:]*fid_values[i_d]/velocities[i_m][0][3], linestyle=\"dashed\", color=p[0].get_color())\u001b[0m\u001b[0;34m\u001b[0m\u001b[0;34m\u001b[0m\u001b[0;34m\u001b[0m\u001b[0m\n\u001b[1;32m     17\u001b[0m \u001b[0;34m\u001b[0m\u001b[0m\n",
      "\u001b[0;31mIndexError\u001b[0m: list index out of range"
     ]
    },
    {
     "data": {
      "image/png": "[encoded data removed]",
      "text/plain": [
       "<Figure size 507.6x252 with 6 Axes>"
      ]
     },
     "metadata": {
      "needs_background": "light"
     },
     "output_type": "display_data"
    }
   ],
   "source": [
    "fig=plt.figure(figsize=(7.05,3.5))\n",
    "\n",
    "gs = gridspec.GridSpec(ncols=3, nrows=2, figure=fig, height_ratios=[1,1], hspace=0.25, wspace=0.05, left=0.2, top=0.95)\n",
    "\n",
    "axs=[]\n",
    "for j in range(2):\n",
    "    for i in range(3):\n",
    "        if j==0:\n",
    "            axs.append(fig.add_subplot(gs[j,i], sharey=axs[0] if i>=1 else None))\n",
    "        else:\n",
    "            axs.append(fig.add_subplot(gs[j,i], sharex=axs[i]))\n",
    "for i_d, label in enumerate(deriv_labels):\n",
    "    axs[i_d].set_title(deriv_labels[i_d])\n",
    "    for i_m, ma in enumerate(axion_masses):\n",
    "        p=axs[i_d].plot(r_vals, derivs[i_m][0,i_d,0,:]*fid_values[i_d]/velocities[i_m][0][0])\n",
    "        #axs[i_d].plot(r_vals, derivs[i_m][0,i_d,3,:]*fid_values[i_d]/velocities[i_m][0][3], linestyle=\"dashed\", color=p[0].get_color())\n",
    "        \n",
    "    if i_d%3!=0:\n",
    "        [label.set_visible(False) for label in axs[i_d].get_yticklabels()]\n",
    "    if i_d<3:\n",
    "        [label.set_visible(False) for label in axs[i_d].get_xticklabels()]\n",
    "axs[0].set_ylabel(r\"$d\\ln V/d\\ln\\theta$\")\n",
    "axs[3].set_ylabel(r\"$d\\ln V/d\\ln\\theta$\")\n",
    "for i in range(3,6):\n",
    "    axs[i].set_xlabel(r\"$r$ [$h^{-1} \\rm{Mpc}$]\")\n",
    "#ax1.set_ylabel(r\"$\\frac{d\\ln V}{d\\ln \\theta}$\")\n",
    "#ax1.legend(ncol=2)"
   ]
  },
  {
   "cell_type": "code",
   "execution_count": null,
   "metadata": {},
   "outputs": [],
   "source": []
  }
 ],
 "metadata": {
  "kernelspec": {
   "display_name": "Python 3",
   "language": "python",
   "name": "python3"
  },
  "language_info": {
   "codemirror_mode": {
    "name": "ipython",
    "version": 3
   },
   "file_extension": ".py",
   "mimetype": "text/x-python",
   "name": "python",
   "nbconvert_exporter": "python",
   "pygments_lexer": "ipython3",
   "version": "3.8.5"
  },
  "widgets": {
   "application/vnd.jupyter.widget-state+json": {
    "state": {},
    "version_major": 2,
    "version_minor": 0
   }
  }
 },
 "nbformat": 4,
 "nbformat_minor": 4
}
